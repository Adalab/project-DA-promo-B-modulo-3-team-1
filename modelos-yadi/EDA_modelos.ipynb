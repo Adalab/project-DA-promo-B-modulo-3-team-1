{
 "cells": [
  {
   "cell_type": "code",
   "execution_count": 19,
   "metadata": {},
   "outputs": [],
   "source": [
    "import pandas as pd\n",
    "import numpy as np\n",
    "from datetime import date\n",
    "import warnings\n",
    "warnings.filterwarnings('ignore') "
   ]
  },
  {
   "cell_type": "code",
   "execution_count": 20,
   "metadata": {},
   "outputs": [
    {
     "data": {
      "text/html": [
       "<div>\n",
       "<style scoped>\n",
       "    .dataframe tbody tr th:only-of-type {\n",
       "        vertical-align: middle;\n",
       "    }\n",
       "\n",
       "    .dataframe tbody tr th {\n",
       "        vertical-align: top;\n",
       "    }\n",
       "\n",
       "    .dataframe thead th {\n",
       "        text-align: right;\n",
       "    }\n",
       "</style>\n",
       "<table border=\"1\" class=\"dataframe\">\n",
       "  <thead>\n",
       "    <tr style=\"text-align: right;\">\n",
       "      <th></th>\n",
       "      <th>instant</th>\n",
       "      <th>dteday</th>\n",
       "      <th>season</th>\n",
       "      <th>yr</th>\n",
       "      <th>mnth</th>\n",
       "      <th>holiday</th>\n",
       "      <th>weekday</th>\n",
       "      <th>workingday</th>\n",
       "      <th>weathersit</th>\n",
       "      <th>temp</th>\n",
       "      <th>atemp</th>\n",
       "      <th>hum</th>\n",
       "      <th>windspeed</th>\n",
       "      <th>casual</th>\n",
       "      <th>registered</th>\n",
       "      <th>cnt</th>\n",
       "    </tr>\n",
       "  </thead>\n",
       "  <tbody>\n",
       "    <tr>\n",
       "      <th>0</th>\n",
       "      <td>1</td>\n",
       "      <td>01-01-2018</td>\n",
       "      <td>spring</td>\n",
       "      <td>0</td>\n",
       "      <td>1</td>\n",
       "      <td>0</td>\n",
       "      <td>6</td>\n",
       "      <td>0</td>\n",
       "      <td>2</td>\n",
       "      <td>14.110847</td>\n",
       "      <td>18.18125</td>\n",
       "      <td>80.5833</td>\n",
       "      <td>10.749882</td>\n",
       "      <td>331</td>\n",
       "      <td>654</td>\n",
       "      <td>985</td>\n",
       "    </tr>\n",
       "    <tr>\n",
       "      <th>1</th>\n",
       "      <td>2</td>\n",
       "      <td>02-01-2018</td>\n",
       "      <td>spring</td>\n",
       "      <td>0</td>\n",
       "      <td>1</td>\n",
       "      <td>0</td>\n",
       "      <td>0</td>\n",
       "      <td>0</td>\n",
       "      <td>2</td>\n",
       "      <td>14.902598</td>\n",
       "      <td>17.68695</td>\n",
       "      <td>69.6087</td>\n",
       "      <td>16.652113</td>\n",
       "      <td>131</td>\n",
       "      <td>670</td>\n",
       "      <td>801</td>\n",
       "    </tr>\n",
       "  </tbody>\n",
       "</table>\n",
       "</div>"
      ],
      "text/plain": [
       "   instant      dteday  season  yr  mnth  holiday  weekday  workingday  \\\n",
       "0        1  01-01-2018  spring   0     1        0        6           0   \n",
       "1        2  02-01-2018  spring   0     1        0        0           0   \n",
       "\n",
       "   weathersit       temp     atemp      hum  windspeed  casual  registered  \\\n",
       "0           2  14.110847  18.18125  80.5833  10.749882     331         654   \n",
       "1           2  14.902598  17.68695  69.6087  16.652113     131         670   \n",
       "\n",
       "   cnt  \n",
       "0  985  \n",
       "1  801  "
      ]
     },
     "execution_count": 20,
     "metadata": {},
     "output_type": "execute_result"
    }
   ],
   "source": [
    "df= pd.read_csv(\"bikes.csv\", index_col=0)\n",
    "df.head(2)"
   ]
  },
  {
   "cell_type": "markdown",
   "metadata": {},
   "source": [
    "## Empezamos el EDA\n",
    "Unificamos y cambiamos los nombres de las columnas"
   ]
  },
  {
   "cell_type": "code",
   "execution_count": 21,
   "metadata": {},
   "outputs": [],
   "source": [
    "columnas={\"instant\":\"index\",\"dteday\":\"date\",\"season\":\"season\",\"yr\":\"year\",\"mnth\":\"month\",\"holiday\":\"holiday\",\\\n",
    "    \"weekday\":\"weeakday\",\"workingday\":\"workingday\",\"weathersit\":\"weathersit\",\"temp\":\"temperature\",\"atemp\":\"sensation\",\\\n",
    "    \"hum\":\"humidity\",\"windspeed\":\"windspeed\",\"casual\":\"casual\",\"registered\":\"registered\",\"cnt\":\"count\"}"
   ]
  },
  {
   "cell_type": "code",
   "execution_count": 22,
   "metadata": {},
   "outputs": [
    {
     "data": {
      "text/html": [
       "<div>\n",
       "<style scoped>\n",
       "    .dataframe tbody tr th:only-of-type {\n",
       "        vertical-align: middle;\n",
       "    }\n",
       "\n",
       "    .dataframe tbody tr th {\n",
       "        vertical-align: top;\n",
       "    }\n",
       "\n",
       "    .dataframe thead th {\n",
       "        text-align: right;\n",
       "    }\n",
       "</style>\n",
       "<table border=\"1\" class=\"dataframe\">\n",
       "  <thead>\n",
       "    <tr style=\"text-align: right;\">\n",
       "      <th></th>\n",
       "      <th>index</th>\n",
       "      <th>date</th>\n",
       "      <th>season</th>\n",
       "      <th>year</th>\n",
       "      <th>month</th>\n",
       "      <th>holiday</th>\n",
       "      <th>weeakday</th>\n",
       "      <th>workingday</th>\n",
       "      <th>weathersit</th>\n",
       "      <th>temperature</th>\n",
       "      <th>sensation</th>\n",
       "      <th>humidity</th>\n",
       "      <th>windspeed</th>\n",
       "      <th>casual</th>\n",
       "      <th>registered</th>\n",
       "      <th>count</th>\n",
       "    </tr>\n",
       "  </thead>\n",
       "  <tbody>\n",
       "    <tr>\n",
       "      <th>0</th>\n",
       "      <td>1</td>\n",
       "      <td>01-01-2018</td>\n",
       "      <td>spring</td>\n",
       "      <td>0</td>\n",
       "      <td>1</td>\n",
       "      <td>0</td>\n",
       "      <td>6</td>\n",
       "      <td>0</td>\n",
       "      <td>2</td>\n",
       "      <td>14.110847</td>\n",
       "      <td>18.18125</td>\n",
       "      <td>80.5833</td>\n",
       "      <td>10.749882</td>\n",
       "      <td>331</td>\n",
       "      <td>654</td>\n",
       "      <td>985</td>\n",
       "    </tr>\n",
       "    <tr>\n",
       "      <th>1</th>\n",
       "      <td>2</td>\n",
       "      <td>02-01-2018</td>\n",
       "      <td>spring</td>\n",
       "      <td>0</td>\n",
       "      <td>1</td>\n",
       "      <td>0</td>\n",
       "      <td>0</td>\n",
       "      <td>0</td>\n",
       "      <td>2</td>\n",
       "      <td>14.902598</td>\n",
       "      <td>17.68695</td>\n",
       "      <td>69.6087</td>\n",
       "      <td>16.652113</td>\n",
       "      <td>131</td>\n",
       "      <td>670</td>\n",
       "      <td>801</td>\n",
       "    </tr>\n",
       "  </tbody>\n",
       "</table>\n",
       "</div>"
      ],
      "text/plain": [
       "   index        date  season  year  month  holiday  weeakday  workingday  \\\n",
       "0      1  01-01-2018  spring     0      1        0         6           0   \n",
       "1      2  02-01-2018  spring     0      1        0         0           0   \n",
       "\n",
       "   weathersit  temperature  sensation  humidity  windspeed  casual  \\\n",
       "0           2    14.110847   18.18125   80.5833  10.749882     331   \n",
       "1           2    14.902598   17.68695   69.6087  16.652113     131   \n",
       "\n",
       "   registered  count  \n",
       "0         654    985  \n",
       "1         670    801  "
      ]
     },
     "execution_count": 22,
     "metadata": {},
     "output_type": "execute_result"
    }
   ],
   "source": [
    "df.rename(columns = columnas, inplace = True)\n",
    "df.head(2)"
   ]
  },
  {
   "cell_type": "code",
   "execution_count": 23,
   "metadata": {},
   "outputs": [
    {
     "name": "stdout",
     "output_type": "stream",
     "text": [
      "Tenemos 730 filas y 16 columnas\n"
     ]
    }
   ],
   "source": [
    "print(f'Tenemos {df.shape[0]} filas y {df.shape[1]} columnas')"
   ]
  },
  {
   "cell_type": "markdown",
   "metadata": {},
   "source": [
    "Miramos nuestros duplicados"
   ]
  },
  {
   "cell_type": "code",
   "execution_count": 24,
   "metadata": {},
   "outputs": [
    {
     "data": {
      "text/plain": [
       "0"
      ]
     },
     "execution_count": 24,
     "metadata": {},
     "output_type": "execute_result"
    }
   ],
   "source": [
    "df.duplicated().sum()"
   ]
  },
  {
   "cell_type": "markdown",
   "metadata": {},
   "source": [
    "Verificamos los nulos"
   ]
  },
  {
   "cell_type": "code",
   "execution_count": 25,
   "metadata": {},
   "outputs": [
    {
     "data": {
      "text/plain": [
       "index          0\n",
       "date           0\n",
       "season         0\n",
       "year           0\n",
       "month          0\n",
       "holiday        0\n",
       "weeakday       0\n",
       "workingday     0\n",
       "weathersit     0\n",
       "temperature    0\n",
       "sensation      0\n",
       "humidity       0\n",
       "windspeed      0\n",
       "casual         0\n",
       "registered     0\n",
       "count          0\n",
       "dtype: int64"
      ]
     },
     "execution_count": 25,
     "metadata": {},
     "output_type": "execute_result"
    }
   ],
   "source": [
    "df.isnull().sum()"
   ]
  },
  {
   "cell_type": "markdown",
   "metadata": {},
   "source": [
    "Genial! No tenemos nulos"
   ]
  },
  {
   "cell_type": "markdown",
   "metadata": {},
   "source": [
    "Sacamos los principales estadisticos"
   ]
  },
  {
   "cell_type": "code",
   "execution_count": 26,
   "metadata": {},
   "outputs": [
    {
     "data": {
      "text/html": [
       "<div>\n",
       "<style scoped>\n",
       "    .dataframe tbody tr th:only-of-type {\n",
       "        vertical-align: middle;\n",
       "    }\n",
       "\n",
       "    .dataframe tbody tr th {\n",
       "        vertical-align: top;\n",
       "    }\n",
       "\n",
       "    .dataframe thead th {\n",
       "        text-align: right;\n",
       "    }\n",
       "</style>\n",
       "<table border=\"1\" class=\"dataframe\">\n",
       "  <thead>\n",
       "    <tr style=\"text-align: right;\">\n",
       "      <th></th>\n",
       "      <th>count</th>\n",
       "      <th>unique</th>\n",
       "      <th>top</th>\n",
       "      <th>freq</th>\n",
       "    </tr>\n",
       "  </thead>\n",
       "  <tbody>\n",
       "    <tr>\n",
       "      <th>date</th>\n",
       "      <td>730</td>\n",
       "      <td>730</td>\n",
       "      <td>01-01-2018</td>\n",
       "      <td>1</td>\n",
       "    </tr>\n",
       "    <tr>\n",
       "      <th>season</th>\n",
       "      <td>730</td>\n",
       "      <td>4</td>\n",
       "      <td>autumn</td>\n",
       "      <td>188</td>\n",
       "    </tr>\n",
       "  </tbody>\n",
       "</table>\n",
       "</div>"
      ],
      "text/plain": [
       "       count unique         top freq\n",
       "date     730    730  01-01-2018    1\n",
       "season   730      4      autumn  188"
      ]
     },
     "execution_count": 26,
     "metadata": {},
     "output_type": "execute_result"
    }
   ],
   "source": [
    "df.describe(include=\"object\").T"
   ]
  },
  {
   "cell_type": "code",
   "execution_count": 27,
   "metadata": {},
   "outputs": [
    {
     "data": {
      "text/html": [
       "<div>\n",
       "<style scoped>\n",
       "    .dataframe tbody tr th:only-of-type {\n",
       "        vertical-align: middle;\n",
       "    }\n",
       "\n",
       "    .dataframe tbody tr th {\n",
       "        vertical-align: top;\n",
       "    }\n",
       "\n",
       "    .dataframe thead th {\n",
       "        text-align: right;\n",
       "    }\n",
       "</style>\n",
       "<table border=\"1\" class=\"dataframe\">\n",
       "  <thead>\n",
       "    <tr style=\"text-align: right;\">\n",
       "      <th></th>\n",
       "      <th>count</th>\n",
       "      <th>mean</th>\n",
       "      <th>std</th>\n",
       "      <th>min</th>\n",
       "      <th>25%</th>\n",
       "      <th>50%</th>\n",
       "      <th>75%</th>\n",
       "      <th>max</th>\n",
       "    </tr>\n",
       "  </thead>\n",
       "  <tbody>\n",
       "    <tr>\n",
       "      <th>index</th>\n",
       "      <td>730.0</td>\n",
       "      <td>365.500000</td>\n",
       "      <td>210.877136</td>\n",
       "      <td>1.000000</td>\n",
       "      <td>183.250000</td>\n",
       "      <td>365.500000</td>\n",
       "      <td>547.750000</td>\n",
       "      <td>730.000000</td>\n",
       "    </tr>\n",
       "    <tr>\n",
       "      <th>year</th>\n",
       "      <td>730.0</td>\n",
       "      <td>0.500000</td>\n",
       "      <td>0.500343</td>\n",
       "      <td>0.000000</td>\n",
       "      <td>0.000000</td>\n",
       "      <td>0.500000</td>\n",
       "      <td>1.000000</td>\n",
       "      <td>1.000000</td>\n",
       "    </tr>\n",
       "    <tr>\n",
       "      <th>month</th>\n",
       "      <td>730.0</td>\n",
       "      <td>6.526027</td>\n",
       "      <td>3.450215</td>\n",
       "      <td>1.000000</td>\n",
       "      <td>4.000000</td>\n",
       "      <td>7.000000</td>\n",
       "      <td>10.000000</td>\n",
       "      <td>12.000000</td>\n",
       "    </tr>\n",
       "    <tr>\n",
       "      <th>holiday</th>\n",
       "      <td>730.0</td>\n",
       "      <td>0.028767</td>\n",
       "      <td>0.167266</td>\n",
       "      <td>0.000000</td>\n",
       "      <td>0.000000</td>\n",
       "      <td>0.000000</td>\n",
       "      <td>0.000000</td>\n",
       "      <td>1.000000</td>\n",
       "    </tr>\n",
       "    <tr>\n",
       "      <th>weeakday</th>\n",
       "      <td>730.0</td>\n",
       "      <td>2.997260</td>\n",
       "      <td>2.006161</td>\n",
       "      <td>0.000000</td>\n",
       "      <td>1.000000</td>\n",
       "      <td>3.000000</td>\n",
       "      <td>5.000000</td>\n",
       "      <td>6.000000</td>\n",
       "    </tr>\n",
       "    <tr>\n",
       "      <th>workingday</th>\n",
       "      <td>730.0</td>\n",
       "      <td>0.683562</td>\n",
       "      <td>0.465405</td>\n",
       "      <td>0.000000</td>\n",
       "      <td>0.000000</td>\n",
       "      <td>1.000000</td>\n",
       "      <td>1.000000</td>\n",
       "      <td>1.000000</td>\n",
       "    </tr>\n",
       "    <tr>\n",
       "      <th>weathersit</th>\n",
       "      <td>730.0</td>\n",
       "      <td>1.394521</td>\n",
       "      <td>0.544807</td>\n",
       "      <td>1.000000</td>\n",
       "      <td>1.000000</td>\n",
       "      <td>1.000000</td>\n",
       "      <td>2.000000</td>\n",
       "      <td>3.000000</td>\n",
       "    </tr>\n",
       "    <tr>\n",
       "      <th>temperature</th>\n",
       "      <td>730.0</td>\n",
       "      <td>20.319259</td>\n",
       "      <td>7.506729</td>\n",
       "      <td>2.424346</td>\n",
       "      <td>13.811885</td>\n",
       "      <td>20.465826</td>\n",
       "      <td>26.880615</td>\n",
       "      <td>35.328347</td>\n",
       "    </tr>\n",
       "    <tr>\n",
       "      <th>sensation</th>\n",
       "      <td>730.0</td>\n",
       "      <td>23.726322</td>\n",
       "      <td>8.150308</td>\n",
       "      <td>3.953480</td>\n",
       "      <td>16.889713</td>\n",
       "      <td>24.368225</td>\n",
       "      <td>30.445775</td>\n",
       "      <td>42.044800</td>\n",
       "    </tr>\n",
       "    <tr>\n",
       "      <th>humidity</th>\n",
       "      <td>730.0</td>\n",
       "      <td>62.765175</td>\n",
       "      <td>14.237589</td>\n",
       "      <td>0.000000</td>\n",
       "      <td>52.000000</td>\n",
       "      <td>62.625000</td>\n",
       "      <td>72.989575</td>\n",
       "      <td>97.250000</td>\n",
       "    </tr>\n",
       "    <tr>\n",
       "      <th>windspeed</th>\n",
       "      <td>730.0</td>\n",
       "      <td>12.763620</td>\n",
       "      <td>5.195841</td>\n",
       "      <td>1.500244</td>\n",
       "      <td>9.041650</td>\n",
       "      <td>12.125325</td>\n",
       "      <td>15.625589</td>\n",
       "      <td>34.000021</td>\n",
       "    </tr>\n",
       "    <tr>\n",
       "      <th>casual</th>\n",
       "      <td>730.0</td>\n",
       "      <td>849.249315</td>\n",
       "      <td>686.479875</td>\n",
       "      <td>2.000000</td>\n",
       "      <td>316.250000</td>\n",
       "      <td>717.000000</td>\n",
       "      <td>1096.500000</td>\n",
       "      <td>3410.000000</td>\n",
       "    </tr>\n",
       "    <tr>\n",
       "      <th>registered</th>\n",
       "      <td>730.0</td>\n",
       "      <td>3658.757534</td>\n",
       "      <td>1559.758728</td>\n",
       "      <td>20.000000</td>\n",
       "      <td>2502.250000</td>\n",
       "      <td>3664.500000</td>\n",
       "      <td>4783.250000</td>\n",
       "      <td>6946.000000</td>\n",
       "    </tr>\n",
       "    <tr>\n",
       "      <th>count</th>\n",
       "      <td>730.0</td>\n",
       "      <td>4508.006849</td>\n",
       "      <td>1936.011647</td>\n",
       "      <td>22.000000</td>\n",
       "      <td>3169.750000</td>\n",
       "      <td>4548.500000</td>\n",
       "      <td>5966.000000</td>\n",
       "      <td>8714.000000</td>\n",
       "    </tr>\n",
       "  </tbody>\n",
       "</table>\n",
       "</div>"
      ],
      "text/plain": [
       "             count         mean          std        min          25%  \\\n",
       "index        730.0   365.500000   210.877136   1.000000   183.250000   \n",
       "year         730.0     0.500000     0.500343   0.000000     0.000000   \n",
       "month        730.0     6.526027     3.450215   1.000000     4.000000   \n",
       "holiday      730.0     0.028767     0.167266   0.000000     0.000000   \n",
       "weeakday     730.0     2.997260     2.006161   0.000000     1.000000   \n",
       "workingday   730.0     0.683562     0.465405   0.000000     0.000000   \n",
       "weathersit   730.0     1.394521     0.544807   1.000000     1.000000   \n",
       "temperature  730.0    20.319259     7.506729   2.424346    13.811885   \n",
       "sensation    730.0    23.726322     8.150308   3.953480    16.889713   \n",
       "humidity     730.0    62.765175    14.237589   0.000000    52.000000   \n",
       "windspeed    730.0    12.763620     5.195841   1.500244     9.041650   \n",
       "casual       730.0   849.249315   686.479875   2.000000   316.250000   \n",
       "registered   730.0  3658.757534  1559.758728  20.000000  2502.250000   \n",
       "count        730.0  4508.006849  1936.011647  22.000000  3169.750000   \n",
       "\n",
       "                     50%          75%          max  \n",
       "index         365.500000   547.750000   730.000000  \n",
       "year            0.500000     1.000000     1.000000  \n",
       "month           7.000000    10.000000    12.000000  \n",
       "holiday         0.000000     0.000000     1.000000  \n",
       "weeakday        3.000000     5.000000     6.000000  \n",
       "workingday      1.000000     1.000000     1.000000  \n",
       "weathersit      1.000000     2.000000     3.000000  \n",
       "temperature    20.465826    26.880615    35.328347  \n",
       "sensation      24.368225    30.445775    42.044800  \n",
       "humidity       62.625000    72.989575    97.250000  \n",
       "windspeed      12.125325    15.625589    34.000021  \n",
       "casual        717.000000  1096.500000  3410.000000  \n",
       "registered   3664.500000  4783.250000  6946.000000  \n",
       "count        4548.500000  5966.000000  8714.000000  "
      ]
     },
     "execution_count": 27,
     "metadata": {},
     "output_type": "execute_result"
    }
   ],
   "source": [
    "df.describe(include=\"number\").T"
   ]
  },
  {
   "cell_type": "code",
   "execution_count": 28,
   "metadata": {},
   "outputs": [
    {
     "data": {
      "text/plain": [
       "index            int64\n",
       "date            object\n",
       "season          object\n",
       "year             int64\n",
       "month            int64\n",
       "holiday          int64\n",
       "weeakday         int64\n",
       "workingday       int64\n",
       "weathersit       int64\n",
       "temperature    float64\n",
       "sensation      float64\n",
       "humidity       float64\n",
       "windspeed      float64\n",
       "casual           int64\n",
       "registered       int64\n",
       "count            int64\n",
       "dtype: object"
      ]
     },
     "execution_count": 28,
     "metadata": {},
     "output_type": "execute_result"
    }
   ],
   "source": [
    "df.dtypes"
   ]
  },
  {
   "cell_type": "markdown",
   "metadata": {},
   "source": [
    "## Limpieza"
   ]
  },
  {
   "cell_type": "markdown",
   "metadata": {},
   "source": [
    "Como vemos tenemos columnas con el tipo de dato mal, algunas están como númericas pero realmente son categoricas. Así que vamos a cambiarlas."
   ]
  },
  {
   "cell_type": "code",
   "execution_count": 29,
   "metadata": {},
   "outputs": [],
   "source": [
    "df[\"year\"]=df[\"year\"].astype(\"category\", errors=\"ignore\")\n",
    "df[\"month\"]=df[\"month\"].astype(\"object\", errors=\"ignore\")\n",
    "df[\"holiday\"]=df[\"holiday\"].astype(\"object\", errors=\"ignore\")\n",
    "#df[\"weeakday\"]=df[\"weeakday\"].astype(\"category\", errors=\"ignore\")\n",
    "df[\"workingday\"]=df[\"workingday\"].astype(\"object\", errors=\"ignore\")\n",
    "#df[\"weathersit\"]=df[\"weathersit\"].astype(\"category\", errors=\"ignore\")"
   ]
  },
  {
   "cell_type": "markdown",
   "metadata": {},
   "source": [
    "Convertimos la columna \"date\" a tipo de dato Date"
   ]
  },
  {
   "cell_type": "code",
   "execution_count": 30,
   "metadata": {},
   "outputs": [],
   "source": [
    "df[\"date\"]=pd.to_datetime(df['date'], format= \"%d-%m-%Y\")\n",
    "df.sort_values(by='date', inplace=True)\n",
    "#hacemos un reset\n",
    "df.reset_index(drop=True, inplace=True)"
   ]
  },
  {
   "cell_type": "code",
   "execution_count": 31,
   "metadata": {},
   "outputs": [
    {
     "data": {
      "text/plain": [
       "index                   int64\n",
       "date           datetime64[ns]\n",
       "season                 object\n",
       "year                 category\n",
       "month                  object\n",
       "holiday                object\n",
       "weeakday                int64\n",
       "workingday             object\n",
       "weathersit              int64\n",
       "temperature           float64\n",
       "sensation             float64\n",
       "humidity              float64\n",
       "windspeed             float64\n",
       "casual                  int64\n",
       "registered              int64\n",
       "count                   int64\n",
       "dtype: object"
      ]
     },
     "execution_count": 31,
     "metadata": {},
     "output_type": "execute_result"
    }
   ],
   "source": [
    "# Verificamos\n",
    "df.dtypes"
   ]
  },
  {
   "cell_type": "markdown",
   "metadata": {},
   "source": [
    "La columna de estación está mal, ya que no coinciden nuestras fechas ya que están invertidas vamos a hacer un mapeo para ponerlo en el orden que corresponde.\n",
    "\n",
    "Vemos que las categorias de season estan mal asignadas --> hacemos un mapeo:\n",
    "\n",
    "    - spring --> winter\n",
    "    - summer --> spring\n",
    "    - autumn --> summer\n",
    "    - winter --> autumn"
   ]
  },
  {
   "cell_type": "code",
   "execution_count": 32,
   "metadata": {},
   "outputs": [
    {
     "data": {
      "text/html": [
       "<div>\n",
       "<style scoped>\n",
       "    .dataframe tbody tr th:only-of-type {\n",
       "        vertical-align: middle;\n",
       "    }\n",
       "\n",
       "    .dataframe tbody tr th {\n",
       "        vertical-align: top;\n",
       "    }\n",
       "\n",
       "    .dataframe thead th {\n",
       "        text-align: right;\n",
       "    }\n",
       "</style>\n",
       "<table border=\"1\" class=\"dataframe\">\n",
       "  <thead>\n",
       "    <tr style=\"text-align: right;\">\n",
       "      <th></th>\n",
       "      <th>index</th>\n",
       "      <th>date</th>\n",
       "      <th>season</th>\n",
       "      <th>year</th>\n",
       "      <th>month</th>\n",
       "      <th>holiday</th>\n",
       "      <th>weeakday</th>\n",
       "      <th>workingday</th>\n",
       "      <th>weathersit</th>\n",
       "      <th>temperature</th>\n",
       "      <th>sensation</th>\n",
       "      <th>humidity</th>\n",
       "      <th>windspeed</th>\n",
       "      <th>casual</th>\n",
       "      <th>registered</th>\n",
       "      <th>count</th>\n",
       "    </tr>\n",
       "  </thead>\n",
       "  <tbody>\n",
       "    <tr>\n",
       "      <th>115</th>\n",
       "      <td>116</td>\n",
       "      <td>2018-04-26</td>\n",
       "      <td>spring</td>\n",
       "      <td>0</td>\n",
       "      <td>4</td>\n",
       "      <td>0</td>\n",
       "      <td>2</td>\n",
       "      <td>1</td>\n",
       "      <td>1</td>\n",
       "      <td>25.898347</td>\n",
       "      <td>29.70415</td>\n",
       "      <td>72.9167</td>\n",
       "      <td>21.875500</td>\n",
       "      <td>678</td>\n",
       "      <td>3722</td>\n",
       "      <td>4400</td>\n",
       "    </tr>\n",
       "    <tr>\n",
       "      <th>450</th>\n",
       "      <td>451</td>\n",
       "      <td>2019-03-27</td>\n",
       "      <td>spring</td>\n",
       "      <td>1</td>\n",
       "      <td>3</td>\n",
       "      <td>0</td>\n",
       "      <td>2</td>\n",
       "      <td>1</td>\n",
       "      <td>1</td>\n",
       "      <td>13.256653</td>\n",
       "      <td>15.78270</td>\n",
       "      <td>29.0000</td>\n",
       "      <td>12.541864</td>\n",
       "      <td>531</td>\n",
       "      <td>4571</td>\n",
       "      <td>5102</td>\n",
       "    </tr>\n",
       "  </tbody>\n",
       "</table>\n",
       "</div>"
      ],
      "text/plain": [
       "     index       date  season year month holiday  weeakday workingday  \\\n",
       "115    116 2018-04-26  spring    0     4       0         2          1   \n",
       "450    451 2019-03-27  spring    1     3       0         2          1   \n",
       "\n",
       "     weathersit  temperature  sensation  humidity  windspeed  casual  \\\n",
       "115           1    25.898347   29.70415   72.9167  21.875500     678   \n",
       "450           1    13.256653   15.78270   29.0000  12.541864     531   \n",
       "\n",
       "     registered  count  \n",
       "115        3722   4400  \n",
       "450        4571   5102  "
      ]
     },
     "execution_count": 32,
     "metadata": {},
     "output_type": "execute_result"
    }
   ],
   "source": [
    "mapa = {'spring':'winter','summer':'spring','autumn':'summer','winter':'autumn'}\n",
    "df['season'] = df['season'].map(mapa)\n",
    "df.sample(2)"
   ]
  },
  {
   "cell_type": "markdown",
   "metadata": {},
   "source": [
    "Vemos que algunos meses no están bien asignados. Vamos a reemplazarlos por los valores correctos:"
   ]
  },
  {
   "cell_type": "code",
   "execution_count": 33,
   "metadata": {},
   "outputs": [],
   "source": [
    "def cambiar_month(col):\n",
    "    return col.month"
   ]
  },
  {
   "cell_type": "code",
   "execution_count": 34,
   "metadata": {},
   "outputs": [
    {
     "data": {
      "text/html": [
       "<div>\n",
       "<style scoped>\n",
       "    .dataframe tbody tr th:only-of-type {\n",
       "        vertical-align: middle;\n",
       "    }\n",
       "\n",
       "    .dataframe tbody tr th {\n",
       "        vertical-align: top;\n",
       "    }\n",
       "\n",
       "    .dataframe thead th {\n",
       "        text-align: right;\n",
       "    }\n",
       "</style>\n",
       "<table border=\"1\" class=\"dataframe\">\n",
       "  <thead>\n",
       "    <tr style=\"text-align: right;\">\n",
       "      <th></th>\n",
       "      <th>index</th>\n",
       "      <th>date</th>\n",
       "      <th>season</th>\n",
       "      <th>year</th>\n",
       "      <th>month</th>\n",
       "      <th>holiday</th>\n",
       "      <th>weeakday</th>\n",
       "      <th>workingday</th>\n",
       "      <th>weathersit</th>\n",
       "      <th>temperature</th>\n",
       "      <th>sensation</th>\n",
       "      <th>humidity</th>\n",
       "      <th>windspeed</th>\n",
       "      <th>casual</th>\n",
       "      <th>registered</th>\n",
       "      <th>count</th>\n",
       "    </tr>\n",
       "  </thead>\n",
       "  <tbody>\n",
       "    <tr>\n",
       "      <th>222</th>\n",
       "      <td>223</td>\n",
       "      <td>2018-08-11</td>\n",
       "      <td>summer</td>\n",
       "      <td>0</td>\n",
       "      <td>8</td>\n",
       "      <td>0</td>\n",
       "      <td>4</td>\n",
       "      <td>1</td>\n",
       "      <td>1</td>\n",
       "      <td>29.417500</td>\n",
       "      <td>32.57605</td>\n",
       "      <td>42.375</td>\n",
       "      <td>11.041332</td>\n",
       "      <td>812</td>\n",
       "      <td>3980</td>\n",
       "      <td>4792</td>\n",
       "    </tr>\n",
       "    <tr>\n",
       "      <th>514</th>\n",
       "      <td>515</td>\n",
       "      <td>2019-05-30</td>\n",
       "      <td>spring</td>\n",
       "      <td>1</td>\n",
       "      <td>5</td>\n",
       "      <td>0</td>\n",
       "      <td>3</td>\n",
       "      <td>1</td>\n",
       "      <td>2</td>\n",
       "      <td>26.923347</td>\n",
       "      <td>30.55645</td>\n",
       "      <td>67.000</td>\n",
       "      <td>9.000043</td>\n",
       "      <td>745</td>\n",
       "      <td>6110</td>\n",
       "      <td>6855</td>\n",
       "    </tr>\n",
       "  </tbody>\n",
       "</table>\n",
       "</div>"
      ],
      "text/plain": [
       "     index       date  season year  month holiday  weeakday workingday  \\\n",
       "222    223 2018-08-11  summer    0      8       0         4          1   \n",
       "514    515 2019-05-30  spring    1      5       0         3          1   \n",
       "\n",
       "     weathersit  temperature  sensation  humidity  windspeed  casual  \\\n",
       "222           1    29.417500   32.57605    42.375  11.041332     812   \n",
       "514           2    26.923347   30.55645    67.000   9.000043     745   \n",
       "\n",
       "     registered  count  \n",
       "222        3980   4792  \n",
       "514        6110   6855  "
      ]
     },
     "execution_count": 34,
     "metadata": {},
     "output_type": "execute_result"
    }
   ],
   "source": [
    "df['month'] = df['date'].apply(cambiar_month)\n",
    "df.sample(2)"
   ]
  },
  {
   "cell_type": "markdown",
   "metadata": {},
   "source": [
    "### Cambiamos el weekday (está mal)"
   ]
  },
  {
   "cell_type": "code",
   "execution_count": 35,
   "metadata": {},
   "outputs": [],
   "source": [
    "mapa_dias={6:1,0:2,1:3,2:4,3:5,4:6,5:7}\n",
    "df['weeakday']=df['weeakday'].map(mapa_dias)"
   ]
  },
  {
   "cell_type": "code",
   "execution_count": 36,
   "metadata": {},
   "outputs": [],
   "source": [
    "# Cambiamos holiday\n",
    "def hol(x):\n",
    "    festivos = pd.DatetimeIndex(['2018-1-1', '2018-1-15', '2018-2-19','2018-4-16','2018-5-28','2018-7-4',\n",
    "                                 '2018-9-3','2018-10-8','2018-11-12','2018-11-22','2018-12-25','2019-1-1', \n",
    "                                 '2019-1-21', '2019-2-18','2019-4-16','2019-5-27','2019-7-4','2019-9-2',\n",
    "                                 '2019-10-14','2019-11-11','2019-11-28','2019-12-25'])\n",
    "    if pd.DatetimeIndex([x]).isin(festivos):\n",
    "        return 1 \n",
    "    else:\n",
    "        return 0"
   ]
  },
  {
   "cell_type": "code",
   "execution_count": 37,
   "metadata": {},
   "outputs": [
    {
     "data": {
      "text/plain": [
       "22"
      ]
     },
     "execution_count": 37,
     "metadata": {},
     "output_type": "execute_result"
    }
   ],
   "source": [
    "df['holiday'] = df['date'].apply(hol)\n",
    "df['holiday'].sum()"
   ]
  },
  {
   "cell_type": "markdown",
   "metadata": {},
   "source": [
    "Eliminamos las columnas redundantes."
   ]
  },
  {
   "cell_type": "code",
   "execution_count": 38,
   "metadata": {},
   "outputs": [
    {
     "data": {
      "text/html": [
       "<div>\n",
       "<style scoped>\n",
       "    .dataframe tbody tr th:only-of-type {\n",
       "        vertical-align: middle;\n",
       "    }\n",
       "\n",
       "    .dataframe tbody tr th {\n",
       "        vertical-align: top;\n",
       "    }\n",
       "\n",
       "    .dataframe thead th {\n",
       "        text-align: right;\n",
       "    }\n",
       "</style>\n",
       "<table border=\"1\" class=\"dataframe\">\n",
       "  <thead>\n",
       "    <tr style=\"text-align: right;\">\n",
       "      <th></th>\n",
       "      <th>index</th>\n",
       "      <th>date</th>\n",
       "      <th>season</th>\n",
       "      <th>year</th>\n",
       "      <th>month</th>\n",
       "      <th>holiday</th>\n",
       "      <th>weeakday</th>\n",
       "      <th>weathersit</th>\n",
       "      <th>sensation</th>\n",
       "      <th>humidity</th>\n",
       "      <th>windspeed</th>\n",
       "      <th>count</th>\n",
       "    </tr>\n",
       "  </thead>\n",
       "  <tbody>\n",
       "    <tr>\n",
       "      <th>0</th>\n",
       "      <td>1</td>\n",
       "      <td>2018-01-01</td>\n",
       "      <td>winter</td>\n",
       "      <td>0</td>\n",
       "      <td>1</td>\n",
       "      <td>1</td>\n",
       "      <td>1</td>\n",
       "      <td>2</td>\n",
       "      <td>18.18125</td>\n",
       "      <td>80.5833</td>\n",
       "      <td>10.749882</td>\n",
       "      <td>985</td>\n",
       "    </tr>\n",
       "    <tr>\n",
       "      <th>1</th>\n",
       "      <td>2</td>\n",
       "      <td>2018-01-02</td>\n",
       "      <td>winter</td>\n",
       "      <td>0</td>\n",
       "      <td>1</td>\n",
       "      <td>0</td>\n",
       "      <td>2</td>\n",
       "      <td>2</td>\n",
       "      <td>17.68695</td>\n",
       "      <td>69.6087</td>\n",
       "      <td>16.652113</td>\n",
       "      <td>801</td>\n",
       "    </tr>\n",
       "  </tbody>\n",
       "</table>\n",
       "</div>"
      ],
      "text/plain": [
       "   index       date  season year  month  holiday  weeakday  weathersit  \\\n",
       "0      1 2018-01-01  winter    0      1        1         1           2   \n",
       "1      2 2018-01-02  winter    0      1        0         2           2   \n",
       "\n",
       "   sensation  humidity  windspeed  count  \n",
       "0   18.18125   80.5833  10.749882    985  \n",
       "1   17.68695   69.6087  16.652113    801  "
      ]
     },
     "execution_count": 38,
     "metadata": {},
     "output_type": "execute_result"
    }
   ],
   "source": [
    "df.drop([\"workingday\",\"temperature\",\"casual\",\"registered\"], axis=1, inplace=True)\n",
    "df.head(2)"
   ]
  },
  {
   "cell_type": "markdown",
   "metadata": {},
   "source": [
    "guardamos el dataframe"
   ]
  },
  {
   "cell_type": "code",
   "execution_count": 40,
   "metadata": {},
   "outputs": [],
   "source": [
    "df.to_csv(\"bikes_limpio.csv\")"
   ]
  }
 ],
 "metadata": {
  "kernelspec": {
   "display_name": "Python 3.9.7 ('base')",
   "language": "python",
   "name": "python3"
  },
  "language_info": {
   "codemirror_mode": {
    "name": "ipython",
    "version": 3
   },
   "file_extension": ".py",
   "mimetype": "text/x-python",
   "name": "python",
   "nbconvert_exporter": "python",
   "pygments_lexer": "ipython3",
   "version": "3.9.7"
  },
  "orig_nbformat": 4,
  "vscode": {
   "interpreter": {
    "hash": "c077ba4c986d0c674841b1bde68a642c04a6e440695030e9d779c08f2cbfb9f4"
   }
  }
 },
 "nbformat": 4,
 "nbformat_minor": 2
}
